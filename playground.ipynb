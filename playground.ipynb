{
 "cells": [
  {
   "cell_type": "code",
   "execution_count": 1,
   "metadata": {},
   "outputs": [],
   "source": [
    "%load_ext autoreload\n",
    "%autoreload 2\n",
    "\n",
    "import torch\n",
    "import ml_collections\n",
    "\n",
    "import datasets\n",
    "\n",
    "import torch.nn as nn\n",
    "import pandas as pd\n",
    "import numpy as np\n",
    "import seaborn as sns\n",
    "import matplotlib.pyplot as plt\n",
    "\n",
    "\n",
    "plt.rcParams[\"figure.figsize\"] = (10,5)\n",
    "plt.rcParams[\"figure.dpi\"] = 110"
   ]
  },
  {
   "cell_type": "code",
   "execution_count": 2,
   "metadata": {},
   "outputs": [
    {
     "name": "stdout",
     "output_type": "stream",
     "text": [
      "# conda environments:\n",
      "#\n",
      "base                     /Users/smaug/miniforge3\n",
      "jax-env                  /Users/smaug/miniforge3/envs/jax-env\n",
      "ml-env                *  /Users/smaug/miniforge3/envs/ml-env\n",
      "svdd-env                 /Users/smaug/miniforge3/envs/svdd-env\n",
      "\n",
      "\n",
      "Note: you may need to restart the kernel to use updated packages.\n"
     ]
    }
   ],
   "source": [
    "%conda env list"
   ]
  },
  {
   "cell_type": "code",
   "execution_count": 3,
   "metadata": {},
   "outputs": [
    {
     "name": "stdout",
     "output_type": "stream",
     "text": [
      "Requirement already satisfied: torchinfo in /Users/smaug/miniforge3/envs/ml-env/lib/python3.9/site-packages (1.6.6)\n",
      "Note: you may need to restart the kernel to use updated packages.\n"
     ]
    }
   ],
   "source": [
    "%pip install torchinfo"
   ]
  },
  {
   "cell_type": "code",
   "execution_count": 4,
   "metadata": {},
   "outputs": [
    {
     "name": "stdout",
     "output_type": "stream",
     "text": [
      "True\n",
      "True\n"
     ]
    },
    {
     "data": {
      "text/plain": [
       "'1.13.0.dev20220525'"
      ]
     },
     "execution_count": 4,
     "metadata": {},
     "output_type": "execute_result"
    }
   ],
   "source": [
    "# Make sure the current PyTorch binary was built with MPS enabled\n",
    "print(torch.backends.mps.is_built())\n",
    "# And that the current hardware and MacOS version are sufficient to\n",
    "# be able to use MPS\n",
    "print(torch.backends.mps.is_available())\n",
    "\n",
    "device = torch.device(\"mps\")\n",
    "\n",
    "torch.__version__"
   ]
  },
  {
   "cell_type": "code",
   "execution_count": 5,
   "metadata": {},
   "outputs": [],
   "source": [
    "config = ml_collections.ConfigDict()\n",
    "config.dataset= \"credit_fraud\"\n",
    "config.scale = 0.5"
   ]
  },
  {
   "cell_type": "code",
   "execution_count": 6,
   "metadata": {},
   "outputs": [
    {
     "name": "stderr",
     "output_type": "stream",
     "text": [
      "WARNING:root:# Samples: 283823 train, 98 validation, 394 test\n"
     ]
    }
   ],
   "source": [
    "X_train, (X_val_in, X_val_out), (X_test_in, X_test_out) = datasets.build_dataset(config, val_ratio=0.2)"
   ]
  },
  {
   "cell_type": "code",
   "execution_count": 7,
   "metadata": {},
   "outputs": [],
   "source": [
    "from models.simple_nn import SimpleNet"
   ]
  },
  {
   "cell_type": "markdown",
   "metadata": {
    "tags": []
   },
   "source": [
    "### Simulating a forward step"
   ]
  },
  {
   "cell_type": "code",
   "execution_count": 12,
   "metadata": {},
   "outputs": [],
   "source": [
    "model = SimpleNet(29, hidden_dim=256)\n",
    "x_batch = torch.from_numpy(X_val_in[:32]).float()\n",
    "dummy = torch.zeros_like(x_batch)"
   ]
  },
  {
   "cell_type": "code",
   "execution_count": 13,
   "metadata": {},
   "outputs": [
    {
     "name": "stdout",
     "output_type": "stream",
     "text": [
      "CPU times: user 423 µs, sys: 269 µs, total: 692 µs\n",
      "Wall time: 404 µs\n"
     ]
    },
    {
     "data": {
      "text/plain": [
       "torch.Size([32, 29])"
      ]
     },
     "execution_count": 13,
     "metadata": {},
     "output_type": "execute_result"
    }
   ],
   "source": [
    "%time model(dummy).shape"
   ]
  },
  {
   "cell_type": "code",
   "execution_count": 14,
   "metadata": {},
   "outputs": [],
   "source": [
    "device = torch.device(\"cpu\")"
   ]
  },
  {
   "cell_type": "code",
   "execution_count": 15,
   "metadata": {},
   "outputs": [],
   "source": [
    "model = SimpleNet(29, hidden_dim=256).to(device)\n",
    "layers = next(model.children())\n",
    "x_batch = torch.from_numpy(X_val_in[:16]).to(device)\n",
    "dummy = torch.zeros_like(x_batch, device=device)"
   ]
  },
  {
   "cell_type": "code",
   "execution_count": 16,
   "metadata": {},
   "outputs": [],
   "source": [
    "ood_batch = torch.from_numpy(X_val_out[:16]).to(device)"
   ]
  },
  {
   "cell_type": "code",
   "execution_count": 17,
   "metadata": {},
   "outputs": [
    {
     "data": {
      "text/plain": [
       "=================================================================\n",
       "Layer (type:depth-idx)                   Param #\n",
       "=================================================================\n",
       "SimpleNet                                --\n",
       "├─Sequential: 1-1                        --\n",
       "│    └─Linear: 2-1                       7,680\n",
       "│    └─ELU: 2-2                          --\n",
       "│    └─Linear: 2-3                       65,792\n",
       "│    └─ELU: 2-4                          --\n",
       "│    └─Linear: 2-5                       7,453\n",
       "=================================================================\n",
       "Total params: 80,925\n",
       "Trainable params: 80,925\n",
       "Non-trainable params: 0\n",
       "================================================================="
      ]
     },
     "execution_count": 17,
     "metadata": {},
     "output_type": "execute_result"
    }
   ],
   "source": [
    "from torchinfo import summary\n",
    "summary(model)"
   ]
  },
  {
   "cell_type": "code",
   "execution_count": 18,
   "metadata": {},
   "outputs": [],
   "source": [
    "from losses import build_loss_fn\n",
    "\n",
    "loss_fn  = build_loss_fn(config)"
   ]
  },
  {
   "cell_type": "code",
   "execution_count": 19,
   "metadata": {},
   "outputs": [
    {
     "data": {
      "text/plain": [
       "tensor([0., 0., 0., 0., 0., 0., 0., 0., 0., 0., 0., 0., 0., 0., 0., 0.],\n",
       "       grad_fn=<SumBackward1>)"
      ]
     },
     "execution_count": 19,
     "metadata": {},
     "output_type": "execute_result"
    }
   ],
   "source": [
    "model(dummy).sum(dim=1)"
   ]
  },
  {
   "cell_type": "code",
   "execution_count": 20,
   "metadata": {},
   "outputs": [
    {
     "name": "stdout",
     "output_type": "stream",
     "text": [
      "CPU times: user 691 µs, sys: 1.89 ms, total: 2.58 ms\n",
      "Wall time: 5.32 ms\n"
     ]
    },
    {
     "data": {
      "text/plain": [
       "tensor(0., grad_fn=<SumBackward0>)"
      ]
     },
     "execution_count": 20,
     "metadata": {},
     "output_type": "execute_result"
    }
   ],
   "source": [
    "%%time\n",
    "x_pert = dummy + torch.randn_like(dummy) * 0.0\n",
    "scores =  model(x_pert)\n",
    "loss=loss_fn(scores, dummy, x_pert)\n",
    "loss"
   ]
  },
  {
   "cell_type": "markdown",
   "metadata": {
    "jp-MarkdownHeadingCollapsed": true,
    "tags": []
   },
   "source": [
    "### Karpathy bug test"
   ]
  },
  {
   "cell_type": "code",
   "execution_count": 21,
   "metadata": {},
   "outputs": [],
   "source": [
    "dummy_batch = torch.ones_like(x_batch[:5], requires_grad = True)"
   ]
  },
  {
   "cell_type": "code",
   "execution_count": 22,
   "metadata": {},
   "outputs": [
    {
     "data": {
      "text/plain": [
       "tensor(-1.4589, grad_fn=<SumBackward0>)"
      ]
     },
     "execution_count": 22,
     "metadata": {},
     "output_type": "execute_result"
    }
   ],
   "source": [
    "scores = model(dummy_batch)\n",
    "loss=scores[3].sum()\n",
    "loss"
   ]
  },
  {
   "cell_type": "code",
   "execution_count": 23,
   "metadata": {},
   "outputs": [],
   "source": [
    "loss.backward()"
   ]
  },
  {
   "cell_type": "code",
   "execution_count": 24,
   "metadata": {},
   "outputs": [
    {
     "data": {
      "text/plain": [
       "tensor([[ 0.0000,  0.0000,  0.0000,  0.0000,  0.0000,  0.0000,  0.0000,  0.0000,\n",
       "          0.0000,  0.0000,  0.0000,  0.0000,  0.0000,  0.0000,  0.0000,  0.0000,\n",
       "          0.0000,  0.0000,  0.0000,  0.0000,  0.0000,  0.0000,  0.0000,  0.0000,\n",
       "          0.0000,  0.0000,  0.0000,  0.0000,  0.0000],\n",
       "        [ 0.0000,  0.0000,  0.0000,  0.0000,  0.0000,  0.0000,  0.0000,  0.0000,\n",
       "          0.0000,  0.0000,  0.0000,  0.0000,  0.0000,  0.0000,  0.0000,  0.0000,\n",
       "          0.0000,  0.0000,  0.0000,  0.0000,  0.0000,  0.0000,  0.0000,  0.0000,\n",
       "          0.0000,  0.0000,  0.0000,  0.0000,  0.0000],\n",
       "        [ 0.0000,  0.0000,  0.0000,  0.0000,  0.0000,  0.0000,  0.0000,  0.0000,\n",
       "          0.0000,  0.0000,  0.0000,  0.0000,  0.0000,  0.0000,  0.0000,  0.0000,\n",
       "          0.0000,  0.0000,  0.0000,  0.0000,  0.0000,  0.0000,  0.0000,  0.0000,\n",
       "          0.0000,  0.0000,  0.0000,  0.0000,  0.0000],\n",
       "        [-1.2916, -1.1063, -0.2641,  2.7393,  0.1262, -0.3927,  0.7584,  0.8687,\n",
       "         -0.4821,  0.6710, -0.4895,  1.6789, -2.4949, -2.7766,  0.1618,  2.3554,\n",
       "          0.4887, -1.3736, -0.6354,  0.3112, -0.1020,  2.1944, -0.8251, -1.1403,\n",
       "          1.3500,  2.9278,  0.9947,  0.5449, -0.5066],\n",
       "        [ 0.0000,  0.0000,  0.0000,  0.0000,  0.0000,  0.0000,  0.0000,  0.0000,\n",
       "          0.0000,  0.0000,  0.0000,  0.0000,  0.0000,  0.0000,  0.0000,  0.0000,\n",
       "          0.0000,  0.0000,  0.0000,  0.0000,  0.0000,  0.0000,  0.0000,  0.0000,\n",
       "          0.0000,  0.0000,  0.0000,  0.0000,  0.0000]])"
      ]
     },
     "execution_count": 24,
     "metadata": {},
     "output_type": "execute_result"
    }
   ],
   "source": [
    "dummy_batch.grad"
   ]
  },
  {
   "cell_type": "code",
   "execution_count": 25,
   "metadata": {},
   "outputs": [
    {
     "data": {
      "text/plain": [
       "tensor([[-0.3201, -0.3201, -0.3201,  ..., -0.3201, -0.3201, -0.3201],\n",
       "        [-0.5786, -0.5786, -0.5786,  ..., -0.5786, -0.5786, -0.5786],\n",
       "        [-0.1453, -0.1453, -0.1453,  ..., -0.1453, -0.1453, -0.1453],\n",
       "        ...,\n",
       "        [-0.2221, -0.2221, -0.2221,  ..., -0.2221, -0.2221, -0.2221],\n",
       "        [ 0.0435,  0.0435,  0.0435,  ...,  0.0435,  0.0435,  0.0435],\n",
       "        [ 0.1352,  0.1352,  0.1352,  ...,  0.1352,  0.1352,  0.1352]])"
      ]
     },
     "execution_count": 25,
     "metadata": {},
     "output_type": "execute_result"
    }
   ],
   "source": [
    "layers[0].weight.grad"
   ]
  },
  {
   "cell_type": "markdown",
   "metadata": {},
   "source": [
    "### Overfitting to a small batch"
   ]
  },
  {
   "cell_type": "code",
   "execution_count": 78,
   "metadata": {},
   "outputs": [],
   "source": [
    "model = SimpleNet(29, hidden_dim=64).to(device)\n",
    "x_batch = torch.from_numpy(X_val_in[:2]).to(device)"
   ]
  },
  {
   "cell_type": "code",
   "execution_count": 79,
   "metadata": {},
   "outputs": [
    {
     "data": {
      "text/plain": [
       "=================================================================\n",
       "Layer (type:depth-idx)                   Param #\n",
       "=================================================================\n",
       "SimpleNet                                --\n",
       "├─Sequential: 1-1                        --\n",
       "│    └─Linear: 2-1                       1,920\n",
       "│    └─ELU: 2-2                          --\n",
       "│    └─Linear: 2-3                       4,160\n",
       "│    └─ELU: 2-4                          --\n",
       "│    └─Linear: 2-5                       1,885\n",
       "=================================================================\n",
       "Total params: 7,965\n",
       "Trainable params: 7,965\n",
       "Non-trainable params: 0\n",
       "================================================================="
      ]
     },
     "execution_count": 79,
     "metadata": {},
     "output_type": "execute_result"
    }
   ],
   "source": [
    "summary(model)"
   ]
  },
  {
   "cell_type": "code",
   "execution_count": 80,
   "metadata": {},
   "outputs": [
    {
     "data": {
      "text/plain": [
       "SGD (\n",
       "Parameter Group 0\n",
       "    dampening: 0\n",
       "    foreach: None\n",
       "    lr: 1e-06\n",
       "    maximize: False\n",
       "    momentum: 0\n",
       "    nesterov: False\n",
       "    weight_decay: 0\n",
       ")"
      ]
     },
     "execution_count": 80,
     "metadata": {},
     "output_type": "execute_result"
    }
   ],
   "source": [
    "opt = torch.optim.SGD(model.parameters(), lr=1e-6)\n",
    "opt"
   ]
  },
  {
   "cell_type": "code",
   "execution_count": 81,
   "metadata": {},
   "outputs": [],
   "source": [
    "opt.zero_grad()"
   ]
  },
  {
   "cell_type": "code",
   "execution_count": 82,
   "metadata": {},
   "outputs": [
    {
     "data": {
      "text/plain": [
       "tensor(5.0465e-13)"
      ]
     },
     "execution_count": 82,
     "metadata": {},
     "output_type": "execute_result"
    }
   ],
   "source": [
    "# x = torch.ones_like(x_batch, requires_grad=True)\n",
    "z = torch.randn_like(x_batch, device=device) * config.scale\n",
    "x_pert = x_batch + z\n",
    "loss_fn(-z/config.scale**2, x_batch, x_pert)"
   ]
  },
  {
   "cell_type": "code",
   "execution_count": 86,
   "metadata": {},
   "outputs": [
    {
     "name": "stdout",
     "output_type": "stream",
     "text": [
      "Iter   0 - Loss: 174.762\n",
      "Iter 10000 - Loss: 126.309\n",
      "Iter 20000 - Loss: 58.768\n",
      "Iter 30000 - Loss: 53.726\n",
      "Iter 40000 - Loss: 62.602\n",
      "Iter 50000 - Loss: 38.870\n",
      "Iter 60000 - Loss: 63.323\n",
      "Iter 70000 - Loss: 43.165\n",
      "Iter 80000 - Loss: 31.463\n",
      "Iter 90000 - Loss: 27.371\n",
      "Iter 100000 - Loss: 31.694\n",
      "Iter 110000 - Loss: 15.554\n",
      "Iter 120000 - Loss: 43.649\n",
      "Iter 130000 - Loss: 38.568\n",
      "Iter 140000 - Loss: 30.934\n",
      "Iter 150000 - Loss: 30.140\n",
      "Iter 160000 - Loss: 7.889\n",
      "Iter 170000 - Loss: 56.884\n",
      "Iter 180000 - Loss: 50.925\n",
      "Iter 190000 - Loss: 18.485\n",
      "Iter 200000 - Loss: 18.525\n",
      "Iter 210000 - Loss: 13.530\n",
      "Iter 220000 - Loss: 37.732\n",
      "Iter 230000 - Loss: 43.995\n",
      "Iter 240000 - Loss: 17.845\n",
      "Iter 250000 - Loss: 30.571\n",
      "Iter 260000 - Loss: 19.557\n",
      "Iter 270000 - Loss: 29.664\n",
      "Iter 280000 - Loss: 13.613\n",
      "Iter 290000 - Loss: 11.782\n",
      "Iter 300000 - Loss: 26.487\n",
      "Iter 310000 - Loss: 9.002\n",
      "Iter 320000 - Loss: 17.416\n",
      "Iter 330000 - Loss: 18.084\n",
      "Iter 340000 - Loss: 7.245\n",
      "Iter 350000 - Loss: 59.774\n",
      "Iter 360000 - Loss: 7.000\n",
      "Iter 370000 - Loss: 11.844\n",
      "Iter 380000 - Loss: 6.607\n",
      "Iter 390000 - Loss: 15.676\n",
      "Iter 400000 - Loss: 9.374\n",
      "Iter 410000 - Loss: 18.067\n",
      "Iter 420000 - Loss: 12.482\n",
      "Iter 430000 - Loss: 10.428\n",
      "Iter 440000 - Loss: 23.360\n",
      "Iter 450000 - Loss: 3.602\n",
      "Iter 460000 - Loss: 5.115\n",
      "Iter 470000 - Loss: 21.875\n",
      "Iter 480000 - Loss: 8.171\n",
      "Iter 490000 - Loss: 29.323\n",
      "Iter 499999 - Loss: 18.140\n",
      "CPU times: user 1min 8s, sys: 373 ms, total: 1min 8s\n",
      "Wall time: 1min 9s\n"
     ]
    }
   ],
   "source": [
    "%%time\n",
    "model.train()\n",
    "losses = []\n",
    "\n",
    "for i in range(500000):\n",
    "    opt.zero_grad()\n",
    "    x_pert = x_batch + torch.randn_like(x_batch, device=device) * config.scale\n",
    "    scores = model(x_pert)\n",
    "    loss = loss_fn(scores, x_batch, x_pert)\n",
    "    loss.backward()\n",
    "    opt.step()\n",
    "    \n",
    "    if i % 1000 == 0:\n",
    "        losses.append(loss.item())\n",
    "    \n",
    "    if i % 10000 == 0: print(f\"Iter {i:3d} - Loss: {loss.item():.3f}\")\n",
    "\n",
    "print(f\"Iter {i:3d} - Loss: {loss.item():.3f}\")"
   ]
  },
  {
   "cell_type": "code",
   "execution_count": 76,
   "metadata": {},
   "outputs": [
    {
     "data": {
      "text/plain": [
       "<AxesSubplot:>"
      ]
     },
     "execution_count": 76,
     "metadata": {},
     "output_type": "execute_result"
    },
    {
     "data": {
      "image/png": "[encoded data removed]",
      "text/plain": [
       "<Figure size 1100x550 with 1 Axes>"
      ]
     },
     "metadata": {
      "needs_background": "light"
     },
     "output_type": "display_data"
    }
   ],
   "source": [
    "loss_history = pd.Series(losses)\n",
    "loss_history.plot()"
   ]
  },
  {
   "cell_type": "code",
   "execution_count": null,
   "metadata": {},
   "outputs": [],
   "source": []
  },
  {
   "cell_type": "code",
   "execution_count": 144,
   "metadata": {},
   "outputs": [
    {
     "data": {
      "text/plain": [
       "(torch.Size([16]), torch.Size([16]))"
      ]
     },
     "execution_count": 144,
     "metadata": {},
     "output_type": "execute_result"
    }
   ],
   "source": [
    "model.eval()\n",
    "with torch.no_grad():\n",
    "    id_scores = torch.linalg.norm(model(x_batch).reshape(x_batch.shape[0],-1), dim=-1).cpu()\n",
    "    ood_scores = torch.linalg.norm(model(ood_batch).reshape(ood_batch.shape[0],-1), dim=-1).cpu()\n",
    "id_scores.shape, ood_scores.shape"
   ]
  },
  {
   "cell_type": "code",
   "execution_count": 145,
   "metadata": {},
   "outputs": [
    {
     "data": {
      "text/html": [
       "<div>\n",
       "<style scoped>\n",
       "    .dataframe tbody tr th:only-of-type {\n",
       "        vertical-align: middle;\n",
       "    }\n",
       "\n",
       "    .dataframe tbody tr th {\n",
       "        vertical-align: top;\n",
       "    }\n",
       "\n",
       "    .dataframe thead th {\n",
       "        text-align: right;\n",
       "    }\n",
       "</style>\n",
       "<table border=\"1\" class=\"dataframe\">\n",
       "  <thead>\n",
       "    <tr style=\"text-align: right;\">\n",
       "      <th></th>\n",
       "      <th>Inlier</th>\n",
       "      <th>Outlier</th>\n",
       "    </tr>\n",
       "  </thead>\n",
       "  <tbody>\n",
       "    <tr>\n",
       "      <th>0</th>\n",
       "      <td>0.523043</td>\n",
       "      <td>65.004921</td>\n",
       "    </tr>\n",
       "    <tr>\n",
       "      <th>1</th>\n",
       "      <td>0.591722</td>\n",
       "      <td>123.841461</td>\n",
       "    </tr>\n",
       "    <tr>\n",
       "      <th>2</th>\n",
       "      <td>0.991572</td>\n",
       "      <td>39.952103</td>\n",
       "    </tr>\n",
       "    <tr>\n",
       "      <th>3</th>\n",
       "      <td>0.677178</td>\n",
       "      <td>26.160568</td>\n",
       "    </tr>\n",
       "    <tr>\n",
       "      <th>4</th>\n",
       "      <td>0.752892</td>\n",
       "      <td>46.747349</td>\n",
       "    </tr>\n",
       "  </tbody>\n",
       "</table>\n",
       "</div>"
      ],
      "text/plain": [
       "     Inlier     Outlier\n",
       "0  0.523043   65.004921\n",
       "1  0.591722  123.841461\n",
       "2  0.991572   39.952103\n",
       "3  0.677178   26.160568\n",
       "4  0.752892   46.747349"
      ]
     },
     "execution_count": 145,
     "metadata": {},
     "output_type": "execute_result"
    }
   ],
   "source": [
    "df = pd.DataFrame.from_dict({\"Inlier\":id_scores, \"Outlier\":ood_scores})\n",
    "df.head()\n"
   ]
  },
  {
   "cell_type": "code",
   "execution_count": 146,
   "metadata": {},
   "outputs": [
    {
     "data": {
      "text/plain": [
       "<AxesSubplot:ylabel='Frequency'>"
      ]
     },
     "execution_count": 146,
     "metadata": {},
     "output_type": "execute_result"
    },
    {
     "data": {
      "image/png": "[encoded data removed]",
      "text/plain": [
       "<Figure size 1100x550 with 1 Axes>"
      ]
     },
     "metadata": {
      "needs_background": "light"
     },
     "output_type": "display_data"
    }
   ],
   "source": [
    "df.plot(kind=\"hist\")"
   ]
  },
  {
   "cell_type": "code",
   "execution_count": null,
   "metadata": {},
   "outputs": [],
   "source": []
  }
 ],
 "metadata": {
  "interpreter": {
   "hash": "b8e3016ad78f72f4f7374acabde5ab0274e8ff7d7511d6f467ddd3d698452913"
  },
  "kernelspec": {
   "display_name": "Python 3 (ipykernel)",
   "language": "python",
   "name": "python3"
  },
  "language_info": {
   "codemirror_mode": {
    "name": "ipython",
    "version": 3
   },
   "file_extension": ".py",
   "mimetype": "text/x-python",
   "name": "python",
   "nbconvert_exporter": "python",
   "pygments_lexer": "ipython3",
   "version": "3.9.12"
  }
 },
 "nbformat": 4,
 "nbformat_minor": 4
}
